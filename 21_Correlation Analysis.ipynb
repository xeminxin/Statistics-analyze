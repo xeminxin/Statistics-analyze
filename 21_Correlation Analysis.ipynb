{
 "cells": [
  {
   "cell_type": "code",
   "execution_count": 1,
   "id": "1d541715",
   "metadata": {},
   "outputs": [
    {
     "name": "stdout",
     "output_type": "stream",
     "text": [
      "          survived    pclass       age      fare\n",
      "survived  1.000000 -0.359653 -0.077221  0.268189\n",
      "pclass   -0.359653  1.000000 -0.369226 -0.554182\n",
      "age      -0.077221 -0.369226  1.000000  0.096067\n",
      "fare      0.268189 -0.554182  0.096067  1.000000\n"
     ]
    }
   ],
   "source": [
    "# 다중 상관 분석\n",
    "# 두 개 이상의 독립 변수와 하나의 종속 변수 사이의 상관관계를 분석하는 방법\n",
    "\n",
    "# 다중 상관 분석 실습\n",
    "import seaborn as sns\n",
    "\n",
    "# titanic 데이터셋에서 일부 변수 선택\n",
    "cols = ['survived', 'pclass', 'age', 'fare']\n",
    "\n",
    "# 선택한 변수들을 가지고 새로운 데이터프레임 생성\n",
    "df = sns.load_dataset('titanic')[cols].dropna()\n",
    "\n",
    "# 다중 상관 분석 수행\n",
    "corr = df.corr()\n",
    "\n",
    "# 결과 출력\n",
    "print(corr)"
   ]
  },
  {
   "cell_type": "markdown",
   "id": "4893c0ba",
   "metadata": {},
   "source": [
    "해석 방법 : 상관 계수가 0.7 이상이면 강한 양의 상관 관계, -0.7 이하이면 강한 음의 상관 관계라고 해석. 또한, p-value가 0.05보다 작으면 통계적으로 유의미한 상관관계가 있다고 판단할 수 있다."
   ]
  },
  {
   "cell_type": "code",
   "execution_count": 6,
   "id": "6a26dca7",
   "metadata": {},
   "outputs": [],
   "source": [
    "# 부분 상관 분석\n",
    "# 두 변수 간의 상관관계에서 다른 변수드르이 영향을 제거한 후에 얻어진 상관관계를 계산하는 방법\n",
    "# 즉, 변수 x와 y의 상관관게에서 z 변수의 영향을 제거하여 x와 y의 상관관계를 구하는 방법\n",
    "\n",
    "# 시계열 상관 분석 실습\n",
    "# 주가 데이터를 활용하여 실습하기 위해 삼성 전자, LG 전자 주식 가격을 이용\n",
    "# 단 랜덤하게 더미 값을 만들어서 사용하여 실습\n",
    "# 시계열 상관 분석은 시간축으로 되어있는 데이터의 상관관계를 분석하는 것이므로 데이터의 시간축 정보가 반드시 포함되어야 한다.\n",
    "# 또한, 결측치 등의 이상치를 처리하는 과정이 필요할 수도 있음\n",
    "\n",
    "import pandas as pd\n",
    "import random\n",
    "\n",
    "# 삼성 전자 주식 데이터\n",
    "dates = pd.date_range(start='2021-01-04', periods=100, freq='D')\n",
    "samsung_prices=[random.randint(80000, 90000) for _ in range(100)]\n",
    "samsung_data = {'Date' : dates, '005930.KS':samsung_prices}\n",
    "samsung_df = pd.DataFrame(samsung_data)\n",
    "samsung_df.set_index('Date', inplace=True)\n",
    "\n",
    "# LG 전자 주식 데이터 \n",
    "lg_prices = [random.randint(140000, 160000) for _ in range(100)]\n",
    "lg_data = {'Date' : dates, '066570.KS' : lg_prices}\n",
    "lg_df = pd.DataFrame(lg_data)\n",
    "lg_df.set_index('Date', inplace=True)\n",
    "\n",
    "# 두 데이터 프레임을 합쳐서 하나의 데이터 프레임으로 만들기\n",
    "df = pd.concat([samsung_df, lg_df], axis=1)\n",
    "df = df.loc[:, ['005930.KS', '066570.KS']]\n",
    "df.columns = ['Samsung', 'LG']\n",
    "\n",
    "# csv 파일로 저장\n",
    "df.to_csv('./data/stock_price.csv')"
   ]
  },
  {
   "cell_type": "code",
   "execution_count": 9,
   "id": "853f3bb8",
   "metadata": {},
   "outputs": [
    {
     "name": "stdout",
     "output_type": "stream",
     "text": [
      "            Samsung      LG\n",
      "Date                       \n",
      "2021-01-04    87007  151076\n",
      "2021-01-05    83239  155261\n",
      "2021-01-06    80170  151123\n",
      "2021-01-07    84488  152219\n",
      "2021-01-08    88750  159216\n",
      "...             ...     ...\n",
      "2021-04-09    89705  146687\n",
      "2021-04-10    86166  151994\n",
      "2021-04-11    88321  150448\n",
      "2021-04-12    82701  141499\n",
      "2021-04-13    82238  141423\n",
      "\n",
      "[100 rows x 2 columns]\n",
      "             Samsung        LG\n",
      "Date                          \n",
      "2021-01-04       NaN       NaN\n",
      "2021-01-05 -0.043307  0.027701\n",
      "2021-01-06 -0.036870 -0.026652\n",
      "2021-01-07  0.053861  0.007252\n",
      "2021-01-08  0.050445  0.045967\n",
      "...              ...       ...\n",
      "2021-04-09  0.104374 -0.007396\n",
      "2021-04-10 -0.039452  0.036179\n",
      "2021-04-11  0.025010 -0.010171\n",
      "2021-04-12 -0.063632 -0.059482\n",
      "2021-04-13 -0.005598 -0.000537\n",
      "\n",
      "[100 rows x 2 columns]\n",
      "          Samsung        LG\n",
      "Samsung  1.000000 -0.001252\n",
      "LG      -0.001252  1.000000\n"
     ]
    }
   ],
   "source": [
    "import pandas as pd\n",
    "import numpy as np\n",
    "import matplotlib.pyplot as plt\n",
    "import seaborn as sns\n",
    "\n",
    "# 주식 데이터 불러오기\n",
    "df = pd.read_csv('./data/stock_price.csv')\n",
    "df['Date'] = pd.to_datetime(df['Date'])\n",
    "df.set_index('Date', inplace=True)\n",
    "\n",
    "print(df)\n",
    "# 두 종목의 수익률 계산\n",
    "returns = df.pct_change()\n",
    "print(returns)\n",
    "\n",
    "# 수익률 간의 상관 계수 계산\n",
    "corr_matrix = returns.corr()\n",
    "print(corr_matrix)"
   ]
  },
  {
   "cell_type": "code",
   "execution_count": 10,
   "id": "9d956fa9",
   "metadata": {},
   "outputs": [
    {
     "data": {
      "image/png": "[encoded data removed]",
      "text/plain": [
       "<Figure size 640x480 with 2 Axes>"
      ]
     },
     "metadata": {},
     "output_type": "display_data"
    }
   ],
   "source": [
    "# 히트맵 그리기\n",
    "sns.heatmap(corr_matrix, annot=True, cmap='coolwarm')\n",
    "plt.title('Stock Returns Correlation')\n",
    "plt.show()"
   ]
  },
  {
   "cell_type": "code",
   "execution_count": null,
   "id": "4dc2ded4",
   "metadata": {},
   "outputs": [],
   "source": []
  }
 ],
 "metadata": {
  "kernelspec": {
   "display_name": "AI",
   "language": "python",
   "name": "ai"
  },
  "language_info": {
   "codemirror_mode": {
    "name": "ipython",
    "version": 3
   },
   "file_extension": ".py",
   "mimetype": "text/x-python",
   "name": "python",
   "nbconvert_exporter": "python",
   "pygments_lexer": "ipython3",
   "version": "3.8.16"
  }
 },
 "nbformat": 4,
 "nbformat_minor": 5
}
