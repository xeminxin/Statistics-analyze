{
 "cells": [
  {
   "cell_type": "markdown",
   "id": "e3100360",
   "metadata": {},
   "source": [
    "## 비모수 검정 방법 소개\n",
    "### 윌콕슨 부호 순위 검정\n",
    "두개의 관련이 있는 짝 데이터에 대한 비모수적인 검정 방법 중 하나. 즉, 두 개의 짝 데이터가 서로 관련이 있으며, 이들의 차이에 대한 분포가 정규분포를 따르지 않는 경우에 사용된다. 이 검정은 두 집단의 중앙값 차이에 대한 가설을 검정한다.\n",
    "\n",
    "일반적으로 윌콕슨 부호 순위 검정은 다음과 같은 가정을 전제로 한다.\n",
    "1. 두 개의 짝 데이터는 서로 독립이 아니며, 서로 관련이 있다.\n",
    "2. 두 개의 짝 데이터는 쌍을 이루고 있으며, 쌍 간의 순서는 중요하지 않다.\n",
    "3. 두 개의 짝 데이터 차이는 대칭적으로 분포하며, 이상치는 적다.\n",
    "\n",
    "\n",
    "검정 방법은?\n",
    "표본의 크기가 작고 모집단이 정규분포를 따르지 않는 경우에 사용. 주어진 표본에서 관찰된 부호 순위 합이 0인지 아닌지를 검정하는 방법이다.\n",
    "* 귀무가설(H0) : 중앙값은 모집단의 기대값과 같다.\n",
    "* 대립가설(H1) : 중앙값은 모집단의 기대값과 다르다.\n",
    "\n",
    "검정 통계량은 관측값들의 부호를 고려하여 순위 합(rank sum)을 계산한다.일반적으로 양측 검정을 사용하며, 검정 통계량이 유의 수준과 비교하여 기각역에 속하면 귀무가설을 기각하고 대립가설을 채택합니다.\n",
    "\n",
    "검정 실습<br>\n",
    "<가정>\n",
    "- 변수가 서열 척도(Ordinal Scale)를 가지고 있다.\n",
    "- 변수는 두 개의 조건에서 측정된다.\n",
    "- 변수의 차이는 중앙값이 아니라 중위수(median)를 기준으로 한다."
   ]
  },
  {
   "cell_type": "code",
   "execution_count": 6,
   "id": "147a84c9",
   "metadata": {},
   "outputs": [],
   "source": [
    "import numpy as np\n",
    "from scipy.stats import wilcoxon"
   ]
  },
  {
   "cell_type": "code",
   "execution_count": 7,
   "id": "4eaaac33",
   "metadata": {},
   "outputs": [],
   "source": [
    "data1 = [20,25,30,35,40,45,50,55,60,65]\n",
    "data2=[10,20,25,30,35,40,45,50,55,60]"
   ]
  },
  {
   "cell_type": "code",
   "execution_count": 8,
   "id": "c29929a8",
   "metadata": {},
   "outputs": [
    {
     "name": "stdout",
     "output_type": "stream",
     "text": [
      "0.0 0.001953125\n"
     ]
    }
   ],
   "source": [
    "# 윌콕슨 부호 순위 검정 수행\n",
    "stat,p = wilcoxon(data1, data2)\n",
    "print(stat, p)\n",
    "\n",
    "# 이 값은 두 집단 간의 순위의 차이를 나타낸다. 두 집단이 유사한 분포를 가지고 있다면, stst 값은 작아지고, 차이가 클수록 stat값이 커진다.\n",
    "# stat은 두 집단 간의 순위 차이를 나타내고, p는 윌콕슨 순위 합 검정 결과에서 귀무가설을 기각할 수 있는 유의성을 나타낸다."
   ]
  },
  {
   "cell_type": "code",
   "execution_count": 9,
   "id": "d831a79c",
   "metadata": {},
   "outputs": [
    {
     "name": "stdout",
     "output_type": "stream",
     "text": [
      "reject HO\n"
     ]
    }
   ],
   "source": [
    "if p > 0.05:\n",
    "    print(\"fail to reject HO\")\n",
    "else:\n",
    "    print(\"reject HO\")"
   ]
  },
  {
   "cell_type": "code",
   "execution_count": null,
   "id": "c90b7d20",
   "metadata": {},
   "outputs": [],
   "source": []
  }
 ],
 "metadata": {
  "kernelspec": {
   "display_name": "AI",
   "language": "python",
   "name": "ai"
  },
  "language_info": {
   "codemirror_mode": {
    "name": "ipython",
    "version": 3
   },
   "file_extension": ".py",
   "mimetype": "text/x-python",
   "name": "python",
   "nbconvert_exporter": "python",
   "pygments_lexer": "ipython3",
   "version": "3.10.9"
  }
 },
 "nbformat": 4,
 "nbformat_minor": 5
}
