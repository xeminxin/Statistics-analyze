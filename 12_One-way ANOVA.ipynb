{
 "cells": [
  {
   "cell_type": "markdown",
   "id": "817039bb",
   "metadata": {},
   "source": [
    "## 일원 분산 분석\n",
    "한 개의 독립변수를 가지고, 이 변수의 값에 종속 변수의 평균에 차이가 있는지 검정하느 방법<br>\n",
    "여러 개의 그룹을 비교할 때 유용한 방법<br>\n",
    "F-statistic 사용하여 검정 -> 각 그룹의 평균값들의 분산과 그룹 내 오차의 분산 비율로 계산. F-통계량이 클수록 각 그룹의 평균값의 차이가 크다는 뜻\n",
    "<br><br>\n",
    "분석 수행 전에, 각 그룹의 샘플 수가 비슷한지 확인하고 정규성 검정하는 것이 좋다.<br>\n",
    "정규성을 만족하지 않는 경우, 일원 분산 분석 대신 비모수 검정을 사용할 수 있다.\n"
   ]
  },
  {
   "cell_type": "code",
   "execution_count": 1,
   "id": "e3715b15",
   "metadata": {},
   "outputs": [
    {
     "name": "stdout",
     "output_type": "stream",
     "text": [
      "   A  B  C\n",
      "0  4  2  3\n",
      "1  3  5  4\n",
      "2  1  3  3\n",
      "3  3  2  1\n",
      "4  1  4  2\n",
      "5  5  3  1\n",
      "6  1  1  4\n",
      "7  2  3  4\n",
      "8  2  4  2\n",
      "9  3  1  4\n"
     ]
    }
   ],
   "source": [
    "# 데이터셋은 A, B, C라는 세 가지 생산 방법을 사용하여 제품을 생산한 30개의 샘플로 구성.\n",
    "# 각각의 샘플은 1~5점까지의 품질 점수를 가지고 있다.\n",
    "\n",
    "# + 일원 분산 분석은 하나의 독립 변수가 종속 변수에 미치는 영향을 분석하는 방법이다.\n",
    "\n",
    "import pandas as pd\n",
    "import numpy as np\n",
    "\n",
    "# 가상 데이터 생성\n",
    "# np.random.seed(1)\n",
    "\n",
    "data = {\n",
    "    'A' : np.random.randint(1, 6, 10),\n",
    "    'B' : np.random.randint(1, 6, 10),\n",
    "    'C' : np.random.randint(1, 6, 10),\n",
    "}\n",
    "\n",
    "df = pd.DataFrame(data)\n",
    "\n",
    "print(df)"
   ]
  },
  {
   "cell_type": "code",
   "execution_count": 4,
   "id": "928ed58f",
   "metadata": {},
   "outputs": [
    {
     "name": "stdout",
     "output_type": "stream",
     "text": [
      "One-way ANOVA\n",
      "=============\n",
      "F-Statistic : 0.1772\n",
      "p-val : 0.8385\n",
      "귀무 가설 채택\n"
     ]
    }
   ],
   "source": [
    "# 일원 분산 분석 수행\n",
    "from scipy.stats import f_oneway\n",
    "\n",
    "f_stat, p_val = f_oneway(df['A'], df['B'], df['C'])\n",
    "print('One-way ANOVA')\n",
    "print('=============')\n",
    "print(f\"F-Statistic : {f_stat:.4f}\")\n",
    "print(f\"p-val : {p_val:.4f}\")\n",
    "\n",
    "alpha = 0.05\n",
    "\n",
    "if p_val < alpha:\n",
    "    print(\"귀무 가설 기각\")\n",
    "else:\n",
    "    print(\"귀무 가설 채택\")"
   ]
  },
  {
   "cell_type": "markdown",
   "id": "0cd1a12c",
   "metadata": {},
   "source": [
    "위의 결과를 해석해보자면, One-way ANOVA 분석에서 F-통계량은 2.2966이고, 이에 해당하는 p-value는 0.1199이다. 일원 분산 분석에서는 귀무 가설이 \"모든 그룹의 평균이 같다\"는 것이므로, p-value가 유의 수준보다 작으면 귀무 가설을 기각하고, 그렇지 않으면 귀무 가설을 채택한다. 이 경우, p-value가 0.1199로 유의 수준 0.05보다 크므로 귀무 가설을 채택한다. 따라서, 이 세 가지 그룹 간에는 유의미한 차이가 없다고 할 수 있다."
   ]
  },
  {
   "cell_type": "code",
   "execution_count": null,
   "id": "67147b64",
   "metadata": {},
   "outputs": [],
   "source": []
  }
 ],
 "metadata": {
  "kernelspec": {
   "display_name": "AI",
   "language": "python",
   "name": "ai"
  },
  "language_info": {
   "codemirror_mode": {
    "name": "ipython",
    "version": 3
   },
   "file_extension": ".py",
   "mimetype": "text/x-python",
   "name": "python",
   "nbconvert_exporter": "python",
   "pygments_lexer": "ipython3",
   "version": "3.8.16"
  }
 },
 "nbformat": 4,
 "nbformat_minor": 5
}
