{
 "cells": [
  {
   "cell_type": "markdown",
   "id": "7b12199b",
   "metadata": {},
   "source": [
    "## 상관 계수\n",
    "두 변수 간의 관계를 수량화하기 위한 지표 중 하나. 대표적으로 피어슨 상관 계수가 있다.\n",
    "피어슨 상관 계수는 -1부터 1까지의 범위를 가지며, 두 변수 간의 관계를 수량화하여 표현함. 1에 가까울수록 강한 양의 상관 관계가 있고, -1에 가까울수록 강한 음의 상관 관게가 있으며, 0에 가까울수록 두 변수 간의 상관 관계가 약하다.<br>\n",
    "상관 계수는 변수 간의 관계를 수치적으로 나타내기 때문에, 데이터 분석에서 매우 유용하다."
   ]
  },
  {
   "cell_type": "code",
   "execution_count": 1,
   "id": "ce4887ae",
   "metadata": {},
   "outputs": [
    {
     "name": "stdout",
     "output_type": "stream",
     "text": [
      "Pearson correlation coefficient:  0.6757341092113645\n"
     ]
    }
   ],
   "source": [
    "# 피어슨 상관 계수 간단 실습\n",
    "import seaborn as sns\n",
    "\n",
    "# load tips dataset\n",
    "tips = sns.load_dataset('tips')\n",
    "\n",
    "# calculate Pearson correlation coefficient between total_bill and tip\n",
    "corr = tips['total_bill'].corr(tips['tip'], method='pearson')\n",
    "\n",
    "print('Pearson correlation coefficient: ', corr)"
   ]
  },
  {
   "cell_type": "markdown",
   "id": "837bc37d",
   "metadata": {},
   "source": [
    "- tips 데이터셋에서 total_bill과 tip 변수의 피어슨 상관관계를 구하는 예시. corr() 함수의 method 인자를 'pearson'으로 지정하여 피어슨 상관계수를 구하였다.\n",
    "- 값은 -1과 1 사이의 값을 가지며, 절대값이 1에 가까울수록 강한 상관관계를 가진다고 해석할 수 있다.\n",
    "- 따라서 이 결과는 total_bill과 tip 변수 간에 강한 양의 상관관계가 있다는 것을 의미"
   ]
  },
  {
   "cell_type": "markdown",
   "id": "d9c2c389",
   "metadata": {},
   "source": [
    "### 공분산\n",
    "두 변수 사이의 상관 관계의 방향과 강도를 나타내는 지표 중 하나<br>\n",
    "두 변수가 함께 변화하는 정도를 나타냄. 두 변수가 같은 방향으로 변화하면 양수의 값을, 반대 방향으로 변화하면 음수의 값을 가진다.<br>\n",
    "공분산 값이 0이라면 두 변수는 서로 독립적인 관계를 가진다는 것을 의미.<br>\n",
    "그러나 공분산값 자체만으로는 두 변수의 상관 관계의 강도를 파악하기 어렵기 때문에, 이를 표준화한 상관계수인 Pearson 상관계수를 사용하는 것이 일반적이다."
   ]
  },
  {
   "cell_type": "code",
   "execution_count": 2,
   "id": "3611eb83",
   "metadata": {},
   "outputs": [
    {
     "name": "stdout",
     "output_type": "stream",
     "text": [
      "[[2.5  3.25]\n",
      " [3.25 4.3 ]]\n"
     ]
    }
   ],
   "source": [
    "# 공분산 간단 실습\n",
    "import numpy as np\n",
    "\n",
    "x = [1,2,3,4,5]\n",
    "y = [2, 3, 5, 6, 7]\n",
    "\n",
    "cov_matrix = np.cov(x,y)\n",
    "\n",
    "print(cov_matrix)"
   ]
  },
  {
   "cell_type": "markdown",
   "id": "7b70605c",
   "metadata": {},
   "source": [
    "첫 번째 요소(2.5)는 x 변수의 분산, 두 번째 요소 4.3은 y 변수의 분산, 나머지 요소들은 x,y 변수 간의 공분산"
   ]
  },
  {
   "cell_type": "code",
   "execution_count": 3,
   "id": "89e3e877",
   "metadata": {},
   "outputs": [
    {
     "name": "stdout",
     "output_type": "stream",
     "text": [
      "Covariance between total_bill and tip: 8.323501629224854\n"
     ]
    }
   ],
   "source": [
    "import seaborn as sns\n",
    "import pandas as pd\n",
    "\n",
    "tips = sns.load_dataset('tips')\n",
    "\n",
    "# 'total_bill'과 'tip' 변수 간의 공분산을 구하기\n",
    "# pandas 라이브러리의 'cov' 함수를 사용하여 공분산을 구할 수 있다.\n",
    "covariance = tips['total_bill'].cov(tips['tip'])\n",
    "print('Covariance between total_bill and tip:', covariance)"
   ]
  },
  {
   "cell_type": "code",
   "execution_count": null,
   "id": "cebf4ba7",
   "metadata": {},
   "outputs": [],
   "source": []
  }
 ],
 "metadata": {
  "kernelspec": {
   "display_name": "AI",
   "language": "python",
   "name": "ai"
  },
  "language_info": {
   "codemirror_mode": {
    "name": "ipython",
    "version": 3
   },
   "file_extension": ".py",
   "mimetype": "text/x-python",
   "name": "python",
   "nbconvert_exporter": "python",
   "pygments_lexer": "ipython3",
   "version": "3.8.16"
  }
 },
 "nbformat": 4,
 "nbformat_minor": 5
}
