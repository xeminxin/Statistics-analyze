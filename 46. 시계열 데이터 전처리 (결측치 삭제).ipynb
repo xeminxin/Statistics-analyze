{
 "cells": [
  {
   "cell_type": "markdown",
   "id": "765229c4",
   "metadata": {},
   "source": [
    "## 시계열 데이터 전처리\n",
    "결측치 처리의 주요 목표\n",
    "- 데이터 왜곡 방지\n",
    "- 예측 정확도 향상\n",
    "- 유의미한 데이터 분석\n",
    "\n",
    "데이터셋에서 결측치의 위치 확인 방법\n",
    "- 데이터셋 요약 정보 확인\n",
    "- 시각화\n",
    "- 조건식을 활용한 필터링\n",
    "- 결측치 개수 확인"
   ]
  },
  {
   "cell_type": "code",
   "execution_count": 1,
   "id": "ca437fc8",
   "metadata": {},
   "outputs": [
    {
     "name": "stdout",
     "output_type": "stream",
     "text": [
      "       A      B      C\n",
      "0  False  False  False\n",
      "1  False   True  False\n",
      "2   True  False  False\n",
      "3  False  False   True\n",
      "4  False  False  False\n"
     ]
    }
   ],
   "source": [
    "# 데이터셋에서 결측치의 위치 확인 방법 실습\n",
    "import pandas as pd\n",
    "import numpy as np\n",
    "\n",
    "# 예시 데이터셋 생성\n",
    "data = pd.DataFrame({'A' : [1, 2, np.nan, 4, 5],\n",
    "                    'B' : [6, np.nan, 8, 9, 10],\n",
    "                    'C' : [11, 12, 13, np.nan, 15]})\n",
    "\n",
    "# 결측치 위치 확인\n",
    "print(data.isnull())"
   ]
  },
  {
   "cell_type": "code",
   "execution_count": 4,
   "id": "80365e90",
   "metadata": {},
   "outputs": [
    {
     "data": {
      "image/png": "[encoded data removed]",
      "text/plain": [
       "<Figure size 800x600 with 1 Axes>"
      ]
     },
     "metadata": {},
     "output_type": "display_data"
    }
   ],
   "source": [
    "# 데이터셋에서 결측치의 위치 확인 방법 실습 - 히트맵 시각화\n",
    "import matplotlib.pyplot as plt\n",
    "import seaborn as sns\n",
    "\n",
    "plt.figure(figsize = (8, 6))\n",
    "sns.heatmap(data.isnull(), cmap='viridis', cbar=False)\n",
    "plt.title('Missing Values Heatmap')\n",
    "plt.show()"
   ]
  },
  {
   "cell_type": "code",
   "execution_count": 5,
   "id": "5d6fc37f",
   "metadata": {},
   "outputs": [
    {
     "name": "stdout",
     "output_type": "stream",
     "text": [
      "A    1\n",
      "B    1\n",
      "C    1\n",
      "dtype: int64\n"
     ]
    }
   ],
   "source": [
    "# 개수 확인 방법\n",
    "\n",
    "# 결측치 개수 확인\n",
    "missing_count = data.isnull().sum()\n",
    "print(missing_count)"
   ]
  },
  {
   "cell_type": "markdown",
   "id": "a016d645",
   "metadata": {},
   "source": [
    "결측치의 빈도 및 패턴을 분석하는 것은 결측치 처리 전략을 수립하는 데 도움이 된다.<br>\n",
    "결측치를 삭제(결측치가 있는 행 또는 열 삭제)하는 방법은 신중하게 사용해야 한다. 행을 삭제하여 해당 시간 인덱스의 데이터를 제거(해당 시간에 대한 데이터를 분석에서 제외하고자 할 때)하거나, 열을 삭제하여 해당 변수(열)의 데이터를 제거(해당 변수가 분석에 중요하지 않거나 결측치의 비율이 매우 높을 때)한다."
   ]
  },
  {
   "cell_type": "code",
   "execution_count": 9,
   "id": "efe50637",
   "metadata": {},
   "outputs": [
    {
     "name": "stdout",
     "output_type": "stream",
     "text": [
      "         Date     Value\n",
      "0  2023-01-01  0.496714\n",
      "1  2023-01-02 -0.138264\n",
      "2  2023-01-03  0.647689\n",
      "3  2023-01-04  1.523030\n",
      "4  2023-01-05 -0.234153\n",
      "..        ...       ...\n",
      "95 2023-04-06 -1.463515\n",
      "96 2023-04-07  0.296120\n",
      "97 2023-04-08  0.261055\n",
      "98 2023-04-09  0.005113\n",
      "99 2023-04-10 -0.234587\n",
      "\n",
      "[100 rows x 2 columns]\n",
      "Date     2023-01-11 00:00:00\n",
      "Value                    NaN\n",
      "Name: 10, dtype: object\n",
      "결측치 개수 : \n",
      "Date     0\n",
      "Value    1\n",
      "dtype: int64\n",
      "결측치가 제거된 데이터 : \n",
      "         Date     Value\n",
      "0  2023-01-01  0.496714\n",
      "1  2023-01-02 -0.138264\n",
      "2  2023-01-03  0.647689\n",
      "3  2023-01-04  1.523030\n",
      "4  2023-01-05 -0.234153\n",
      "..        ...       ...\n",
      "95 2023-04-06 -1.463515\n",
      "96 2023-04-07  0.296120\n",
      "97 2023-04-08  0.261055\n",
      "98 2023-04-09  0.005113\n",
      "99 2023-04-10 -0.234587\n",
      "\n",
      "[99 rows x 2 columns]\n"
     ]
    }
   ],
   "source": [
    "# 결측치의 삭제\n",
    "# 결측치가 있는 행 삭제\n",
    "\n",
    "np.random.seed(42)\n",
    "dates = pd.date_range(start = '2023-01-01', periods=100, freq='D')\n",
    "values = np.random.randn(100)\n",
    "values[10] = np.nan # 결측치 생성\n",
    "\n",
    "data = pd.DataFrame({'Date' : dates, 'Value' : values})\n",
    "print(data)\n",
    "\n",
    "# 결측치 생성 여부 체크\n",
    "row_11 = data.iloc[10]\n",
    "print(row_11)\n",
    "# Row_11 값을 확인하니 NaN 결측값 생성\n",
    "\n",
    "# 결측치 개수 확인 체크\n",
    "print(\"결측치 개수 : \")\n",
    "print(data.isnull().sum())\n",
    "\n",
    "# 결측치가 있는 행 삭제\n",
    "data_without_missing = data.dropna(axis=0)\n",
    "\n",
    "# 결측치 삭제 후 결과 확인\n",
    "print(\"결측치가 제거된 데이터 : \")\n",
    "print(data_without_missing)"
   ]
  },
  {
   "cell_type": "markdown",
   "id": "6f2357aa",
   "metadata": {},
   "source": [
    "#### 결측치의 삭제 장단점\n",
    "\n",
    "장점\n",
    "* 간단하고 직관적인 방법으로 결측치 처리 가능\n",
    "* 시계열 데이터의 특성을 유지하면서 결측치를 삭제할 수 있음\n",
    "* 시계열 데이터에서는 시간적인 연속성이 중요하므로, 결측치가 있는 행을 삭제하면서 시간적인 흐름을 유지할 수 있다.\n",
    "\n",
    "단점\n",
    "* 결측치를 삭제하면 데이터의 손실이 발생함. 이로 인해 시계열 데이터의 완전성이 저하될 수 있음.\n",
    "* 결측치가 많은 경우, 데이터셋의 크기가 크게 축소될 수 있으며, 모델링이나 분석에 필요한 충분한 데이터가 남지 않을 수 있다.\n",
    "* 결측치가 삭제되면 해당 시점의 데이터 패턴이나 특성을 파악할 수 없게 된다.\n"
   ]
  },
  {
   "cell_type": "code",
   "execution_count": null,
   "id": "4e1a985c",
   "metadata": {},
   "outputs": [],
   "source": []
  }
 ],
 "metadata": {
  "kernelspec": {
   "display_name": "AI",
   "language": "python",
   "name": "ai"
  },
  "language_info": {
   "codemirror_mode": {
    "name": "ipython",
    "version": 3
   },
   "file_extension": ".py",
   "mimetype": "text/x-python",
   "name": "python",
   "nbconvert_exporter": "python",
   "pygments_lexer": "ipython3",
   "version": "3.10.9"
  }
 },
 "nbformat": 4,
 "nbformat_minor": 5
}
