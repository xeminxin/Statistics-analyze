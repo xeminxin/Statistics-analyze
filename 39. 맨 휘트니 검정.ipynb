{
 "cells": [
  {
   "cell_type": "markdown",
   "id": "1a5f5534",
   "metadata": {},
   "source": [
    "## 맨 휘트니 검정\n",
    "집단 내에서는 순위 차이의 분포가 같다는 검정<br>\n",
    "두 개의 독립적인 집단 간에 순위 차이가 있는지 검정한다. 이 때 집단 내에서는 순위 차이의 분포가 같다는 가정이 필요하다. 이는 두 집단의 관측치가 서로 독립적이고, 두 집단 내에서 순위 차이의 분포가 동일하다는 것을 의미한다. 즉, 각 집단 내에서 관측치의 분포가 다를 수는 있지만, 두 집단의 순위 차이의 분포가 동일하다는 가정이다. 이 가정이 만족되어야만 맨 휘트니 검정을 신뢰할 수 있다.\n",
    "\n",
    "- H0 : 두 집단의 중앙값이 같다.\n",
    "- H1 : 두 집단의 중앙값이 다르다.\n",
    "\n",
    "즉, 검정 결과 p-value가 유의수준보다 작으면 귀무 가설을 기각하고 대립 가설을 채택한다. 반대로, p-value가 유의 수준보다 크면 귀무 가설을 채택한다. 이는 두 집단의 분포가 동일하다는 것을 의미"
   ]
  },
  {
   "cell_type": "code",
   "execution_count": 1,
   "id": "0af50216",
   "metadata": {},
   "outputs": [
    {
     "name": "stdout",
     "output_type": "stream",
     "text": [
      "32.5 0.19622288836173518\n"
     ]
    }
   ],
   "source": [
    "import pandas as pd\n",
    "import seaborn as sns\n",
    "import matplotlib.pyplot as plt\n",
    "from scipy.stats import mannwhitneyu\n",
    "\n",
    "group1 = [3,2,5,1,4,2,6,7,9,8]\n",
    "group2 = [6,4,7,2,6,3,7,9,10,11]\n",
    "\n",
    "st, p = mannwhitneyu(group1, group2)\n",
    "\n",
    "print(st, p)"
   ]
  },
  {
   "cell_type": "code",
   "execution_count": 2,
   "id": "0fdc815e",
   "metadata": {},
   "outputs": [
    {
     "name": "stdout",
     "output_type": "stream",
     "text": [
      "32.5 0.19622288836173518\n",
      "10 10\n",
      "32.5\n",
      "0.014019277113959953\n"
     ]
    }
   ],
   "source": [
    "import numpy as np \n",
    "import pandas as pd\n",
    "from scipy.stats import mannwhitneyu\n",
    "from scipy import stats\n",
    "\n",
    "# 데이터 불러오기 \n",
    "data = pd.read_csv(\"./data/mannwhitneyu_sample_data.csv\")\n",
    "\n",
    "# 두 집단 간의 차이 검정 \n",
    "st, p = mannwhitneyu(data['group1'], data['group2'])\n",
    "\n",
    "print(st, p)\n",
    "\n",
    "# 두 집단의 크기 계산 # len()\n",
    "n1, n2 = len(data['group1']), len(data['group2'])\n",
    "print(n1, n2)\n",
    "\n",
    "# U 값이 클 때는 U 값 대신 (n1 * n2 - U) 값을 사용\n",
    "if st > n1 * n2 / 2 : \n",
    "    st = n1 * n2 - st\n",
    "    \n",
    "# p-value 계산 \n",
    "p_val = 2 * stats.norm.cdf(-abs(st) / np.sqrt(n1 * n2 * (n1 + n2 +1)/12))\n",
    "\n",
    "print(st)\n",
    "print(p_val)"
   ]
  },
  {
   "cell_type": "markdown",
   "id": "1a094c73",
   "metadata": {},
   "source": [
    "맨 휘트니 검정에서 p-value는 U 통계량을 이용하여 계산된다. U 통계량은 각 그룹에서 다른 그룹의 값보다 높은 순위의 개수를 합산한 것으로 계산된다.\n",
    "<br>U값을 계산할 때, 두 그룹의 크기가 같은 경우 다음과 같은 식을 사용한다.\n",
    "- U = n1 * n2 + (n1 *(n1+1)) / 2 - R1\n",
    "n1, n2 : 각각 두 그룹의 크기, R1 : 두 번째 그룹의 순위 합\n",
    "<br>\n",
    "p-value는 U값을 기반으로 하여 정규분포를 이용하여 근사치를 계산한다. 이 때, p-value는 양측 검정에서 각각의 꼬리 부분의 확률을 더한 값이다. 따라서, 검정 결과를 해석할 때는 검정의 방향성에 따라 적절한 꼬리 확률을 사용하여 해석해야 한다."
   ]
  }
 ],
 "metadata": {
  "kernelspec": {
   "display_name": "AI",
   "language": "python",
   "name": "ai"
  },
  "language_info": {
   "codemirror_mode": {
    "name": "ipython",
    "version": 3
   },
   "file_extension": ".py",
   "mimetype": "text/x-python",
   "name": "python",
   "nbconvert_exporter": "python",
   "pygments_lexer": "ipython3",
   "version": "3.10.9"
  }
 },
 "nbformat": 4,
 "nbformat_minor": 5
}
