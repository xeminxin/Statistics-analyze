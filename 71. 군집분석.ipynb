{
 "cells": [
  {
   "cell_type": "markdown",
   "id": "c356b69a",
   "metadata": {},
   "source": [
    "# 군집 분석\n",
    "비슷한 특성을 가진 개체들을 그룹으로 분류하는 분석 기법. 데이터 내의 패턴이나 유사성을 파악하고 이를 기반으로 한 그룹 간의 차이를 이해하는 데 사용\n",
    "\n",
    "## 군집분석의 목적\n",
    "- 데이터 탐색과 시각화 : 유사한 개체들을 그룹화 하여 그룹 간의 차이와 유사성을 시각적으로 이해할 수 있다.\n",
    "- 성질과 특성 파악 : 군집 분석은 데이터를 비슷한 특성이나 성질을 가진 그룹으로 나누어준다. 이를 통해 각 그룹의 고유한 특징과 행동 양상을 파악할 수 있다.\n",
    "- 데이터 전처리와 변수 선택\n",
    "- 예측과 분류\n",
    "\n",
    "## 군집 분석이 어떻게 데이터를 그룹으로 분류하는지\n",
    "데이터를 그룹으로 분류하는 데 사용되며, 일반적으로 다음과 같은 절차를 따른다.\n",
    "1. 데이터 준비\n",
    "2. 거리 또는 유사도 측정\n",
    "3. 군집화 알고리즘 선택\n",
    "4. 초기 군집 중심 설정\n",
    "5. 군집화 수행\n",
    "6. 군집 결과 해석\n",
    "\n",
    "## 계층적 군집 분석\n",
    "1. 데이터를 계층 구조로 분석하는 방법\n",
    "2. 이 방법을 데이터를 유사도 또는 거리의 개념을 기반으로 계층적인 트리 구조로 표현\n",
    "3. 주어진 데이터 포인트가 클러스터로 구성되는 과정에서 계층적인 구조 형성\n",
    "4. 덴드로그램이라는 트리 형태의 시각화 도구를 사용해 계층적 군집 결과를 시각화 할 수 있음\n",
    "5. 분석가는 덴드로그램을 통해 유사한 특성을 가진 그룹을 선택하거나 원하는 클러스터 수에 따라 잘라내어 결과를 도출할 수 있다.\n",
    "6. 계층적 군집 분석은 클러스터의 수를 사전에 정하지 않고도 계층적인 관계를 시각화하고 유연하게 탐색 할 수 있는 장점이 있다.\n",
    "\n",
    "## 비계층적 군집 분석\n",
    "1. 비계층적 군집 분석은 데이터를 사전에 정한 클러스터 수에 따라 분류하는 방법\n",
    "2. 데이터 간의 유사성에 따라 클러스터를 형성 하는 알고리즘을 사용하여 분석\n",
    "3. k-means 클러스터링 : 가장 널리 사용되는 비계층적 군집 분석 알고리즘 중 하나\n",
    "4. k-means 알고리즘은 사전에 정한 클러스터수(k)에 따라 데이터를 k개의 그룹으로 나눈다.\n",
    "5. 알고리즘은 초기 중심값을 선택 하고, 데이터를 가장 가까운 중심에 할당하고, 할당된 데이터의 평균을 구하여 중심을 업데이트하는 과정을 반복하여 최적의 클러스터를 찾는다.\n",
    "6. 비계층적 군집 분석은 초기 클러스터 수를 설정해야 하고, 계층적 관계를 직접 시각화하기 어렵지만, 대용량 데이터 셋에 대해 상대적으로 빠르게 처리할 수 있는 장점이 있다.\n",
    "\n",
    "## 계층적 군집 분석의 특징과 장단점\n",
    "#### 계층적 군집 분석 특징\n",
    "- 데이터를 계층 구조로 분석하는 방법\n",
    "- 계층적인 트리 구조를 형성하여 유사한 특성을 가진 그룹을 형성\n",
    "- 계층적인 관게를 시각화하는 덴드로그램을 통해 결과를 분석할 수 있다.\n",
    "- 클러스터 수를 사전에 정하지 않고도 유연하게 탐색할 수 있는 장점이 있다.\n",
    "\n",
    "## 군집 분석 - 데이터 전처리\n",
    "- 변수 표준화\n",
    "- 결측치 처리\n",
    "\n",
    "## 군집 분석 - 거리 혹은 유사도 측정 방법\n",
    "- 유클리디안 거리 : 데이터 포인트 간의 지건 거리 계산. 변수 간의 척도가 유사하고, 데이터의 분포가 정규분포를 따를 때 적합한 방법\n",
    "- 맨하탄 거리 : 데이터 포인트 간의 가로 세로 이동 거리 계산. 변수 간의 척도가 다를 때에도 사용할 수 있다.\n",
    "- 코사인 유사도 : 거리 측정 방법이 아닌 유사도 측정 방법으로, 데이터 포인트 간의 각도를 계산한다.\n",
    "- 자카드 유사도 : 주로 이진 데이터에 사용되는 유사도 측정 방법. 두 집합 간의 공통 요소의 비율 계산\n",
    "\n",
    "## 군집화 알고리즘\n",
    "- K-means : 사전에 정한 클러스터의 개수(k)에 따라 데이터를 그룹화 한다. 데이터 포인트를 가장 가까운 중심점과의 거리를 기반으로 클러스터에 할당하고, 중심점을 업데이트하는 과정을 반복함. 데이터의 분포가 정규분포를 따르고, 클러스터의 크기와 모양이 유사할 때 적합하다.\n",
    "- DBSCAN : 밀도 기반 군집화 알고리즘. 클러스터의 모양이 비선형적이고 밀도 차이가 있는 데이터에 적합\n",
    "- GMM : 가우시안 혼합 모델을 기반으로 한느 확률적인 군집화 방법. 데이터가 여러개의 가우시안 분포를 가지고 있다고 가저앟고 각 분포에 속할 확률을 추정하여 데이터를 군집화 한다. 데이터가 정규분포를 따르고, 소프트 군집화를 원할 때 적합\n",
    "\n",
    "## 군집 수 결정 방법\n",
    "- 엘보우 방법 : 군집 수에 따른 응집도 변화를 살펴보는 방법. 군집 수를 증가시킬수록 응집도는 감소. 그러나 적정한 군집 수에서 응집도의 변화가 감소하면서 급격히 완만해지는 지점이 생긴다. 이 지점을 엘보우라고 하며, 해당 지점의 군집 수를 적정한 군집 수로 선택한다.\n",
    "- 실루엣 분석 : 군집 내의 응집력과 군집 간의 분리도를 종합적으로 평가하는 방법. 각 데이터의 포인트의 실루엣 계수를 계산하여 평균 실루엣 계수를 구한다. 실루엣 계수는  -1부터 1까지의 값을 가지며, 1에 가까울수록 군집 간의 분리도가 높고, 0에 가까울수록 군집 내의 응집력이 강하다. 실루엣 계수가 최대가 되는 군집 수를 선택한다.\n",
    "- Gap Statistic : 실제 데이터와 무작위 생성된 데이터의 비교를 통해 군집 수를 결정하는 방법. 실제 데이터에 군집화 알고리즘을 적용한 후, 무작위 생성된 데이터에도 동일한 알고리즘을 적용한다. Gap Statistic은 실제 데이터의 응집도와 무작위 데이터의 응집도 사이의 차이를 계산하여 비교. Gap Statistic이 최대가 되는 군집을 선택"
   ]
  },
  {
   "cell_type": "code",
   "execution_count": 1,
   "id": "e5f98122",
   "metadata": {},
   "outputs": [
    {
     "name": "stderr",
     "output_type": "stream",
     "text": [
      "C:\\Users\\smjin\\anaconda3\\lib\\site-packages\\sklearn\\cluster\\_kmeans.py:870: FutureWarning: The default value of `n_init` will change from 10 to 'auto' in 1.4. Set the value of `n_init` explicitly to suppress the warning\n",
      "  warnings.warn(\n",
      "C:\\Users\\smjin\\anaconda3\\lib\\site-packages\\sklearn\\cluster\\_kmeans.py:1382: UserWarning: KMeans is known to have a memory leak on Windows with MKL, when there are less chunks than available threads. You can avoid it by setting the environment variable OMP_NUM_THREADS=1.\n",
      "  warnings.warn(\n"
     ]
    },
    {
     "data": {
      "text/html": [
       "<style>#sk-container-id-1 {color: black;background-color: white;}#sk-container-id-1 pre{padding: 0;}#sk-container-id-1 div.sk-toggleable {background-color: white;}#sk-container-id-1 label.sk-toggleable__label {cursor: pointer;display: block;width: 100%;margin-bottom: 0;padding: 0.3em;box-sizing: border-box;text-align: center;}#sk-container-id-1 label.sk-toggleable__label-arrow:before {content: \"▸\";float: left;margin-right: 0.25em;color: #696969;}#sk-container-id-1 label.sk-toggleable__label-arrow:hover:before {color: black;}#sk-container-id-1 div.sk-estimator:hover label.sk-toggleable__label-arrow:before {color: black;}#sk-container-id-1 div.sk-toggleable__content {max-height: 0;max-width: 0;overflow: hidden;text-align: left;background-color: #f0f8ff;}#sk-container-id-1 div.sk-toggleable__content pre {margin: 0.2em;color: black;border-radius: 0.25em;background-color: #f0f8ff;}#sk-container-id-1 input.sk-toggleable__control:checked~div.sk-toggleable__content {max-height: 200px;max-width: 100%;overflow: auto;}#sk-container-id-1 input.sk-toggleable__control:checked~label.sk-toggleable__label-arrow:before {content: \"▾\";}#sk-container-id-1 div.sk-estimator input.sk-toggleable__control:checked~label.sk-toggleable__label {background-color: #d4ebff;}#sk-container-id-1 div.sk-label input.sk-toggleable__control:checked~label.sk-toggleable__label {background-color: #d4ebff;}#sk-container-id-1 input.sk-hidden--visually {border: 0;clip: rect(1px 1px 1px 1px);clip: rect(1px, 1px, 1px, 1px);height: 1px;margin: -1px;overflow: hidden;padding: 0;position: absolute;width: 1px;}#sk-container-id-1 div.sk-estimator {font-family: monospace;background-color: #f0f8ff;border: 1px dotted black;border-radius: 0.25em;box-sizing: border-box;margin-bottom: 0.5em;}#sk-container-id-1 div.sk-estimator:hover {background-color: #d4ebff;}#sk-container-id-1 div.sk-parallel-item::after {content: \"\";width: 100%;border-bottom: 1px solid gray;flex-grow: 1;}#sk-container-id-1 div.sk-label:hover label.sk-toggleable__label {background-color: #d4ebff;}#sk-container-id-1 div.sk-serial::before {content: \"\";position: absolute;border-left: 1px solid gray;box-sizing: border-box;top: 0;bottom: 0;left: 50%;z-index: 0;}#sk-container-id-1 div.sk-serial {display: flex;flex-direction: column;align-items: center;background-color: white;padding-right: 0.2em;padding-left: 0.2em;position: relative;}#sk-container-id-1 div.sk-item {position: relative;z-index: 1;}#sk-container-id-1 div.sk-parallel {display: flex;align-items: stretch;justify-content: center;background-color: white;position: relative;}#sk-container-id-1 div.sk-item::before, #sk-container-id-1 div.sk-parallel-item::before {content: \"\";position: absolute;border-left: 1px solid gray;box-sizing: border-box;top: 0;bottom: 0;left: 50%;z-index: -1;}#sk-container-id-1 div.sk-parallel-item {display: flex;flex-direction: column;z-index: 1;position: relative;background-color: white;}#sk-container-id-1 div.sk-parallel-item:first-child::after {align-self: flex-end;width: 50%;}#sk-container-id-1 div.sk-parallel-item:last-child::after {align-self: flex-start;width: 50%;}#sk-container-id-1 div.sk-parallel-item:only-child::after {width: 0;}#sk-container-id-1 div.sk-dashed-wrapped {border: 1px dashed gray;margin: 0 0.4em 0.5em 0.4em;box-sizing: border-box;padding-bottom: 0.4em;background-color: white;}#sk-container-id-1 div.sk-label label {font-family: monospace;font-weight: bold;display: inline-block;line-height: 1.2em;}#sk-container-id-1 div.sk-label-container {text-align: center;}#sk-container-id-1 div.sk-container {/* jupyter's `normalize.less` sets `[hidden] { display: none; }` but bootstrap.min.css set `[hidden] { display: none !important; }` so we also need the `!important` here to be able to override the default hidden behavior on the sphinx rendered scikit-learn.org. See: https://github.com/scikit-learn/scikit-learn/issues/21755 */display: inline-block !important;position: relative;}#sk-container-id-1 div.sk-text-repr-fallback {display: none;}</style><div id=\"sk-container-id-1\" class=\"sk-top-container\"><div class=\"sk-text-repr-fallback\"><pre>KMeans(n_clusters=4, random_state=42)</pre><b>In a Jupyter environment, please rerun this cell to show the HTML representation or trust the notebook. <br />On GitHub, the HTML representation is unable to render, please try loading this page with nbviewer.org.</b></div><div class=\"sk-container\" hidden><div class=\"sk-item\"><div class=\"sk-estimator sk-toggleable\"><input class=\"sk-toggleable__control sk-hidden--visually\" id=\"sk-estimator-id-1\" type=\"checkbox\" checked><label for=\"sk-estimator-id-1\" class=\"sk-toggleable__label sk-toggleable__label-arrow\">KMeans</label><div class=\"sk-toggleable__content\"><pre>KMeans(n_clusters=4, random_state=42)</pre></div></div></div></div></div>"
      ],
      "text/plain": [
       "KMeans(n_clusters=4, random_state=42)"
      ]
     },
     "execution_count": 1,
     "metadata": {},
     "output_type": "execute_result"
    }
   ],
   "source": [
    "# 군집 분석 실습\n",
    "from sklearn.datasets import make_blobs\n",
    "from sklearn.cluster import KMeans\n",
    "\n",
    "# 데이터 랜덤 생성\n",
    "X, y = make_blobs(n_samples = 100, centers=4, random_state = 42)\n",
    "\n",
    "# K-means 알고리즘 적용\n",
    "kmeans = KMeans(n_clusters=4, random_state = 42)\n",
    "kmeans.fit(X)"
   ]
  },
  {
   "cell_type": "code",
   "execution_count": 3,
   "id": "f8ed9130",
   "metadata": {},
   "outputs": [
    {
     "name": "stdout",
     "output_type": "stream",
     "text": [
      "군집 중심점 : \n",
      "[[ 4.44441765  2.02122148]\n",
      " [-8.8546122   7.54808242]\n",
      " [-6.9749469  -6.76471966]\n",
      " [-2.69827251  8.74341951]]\n",
      "군집 예측 결과 : \n",
      "[1 2 3 2 1 2 0 0 0 3 3 2 2 0 3 1 1 0 1 1 3 1 1 0 0 3 0 1 1 2 2 0 2 1 3 3 3\n",
      " 3 0 0 1 0 2 3 3 2 2 1 1 0 0 0 0 2 1 1 3 3 0 3 2 0 1 2 1 1 2 1 0 2 0 2 1 3\n",
      " 2 1 2 1 2 2 0 2 3 1 3 3 3 2 3 0 0 2 3 2 3 3 3 0 1 0]\n",
      "군집 1 :\n",
      "중심점 : [4.44441765 2.02122148]\n",
      "데이터 개수: 25\n",
      "---------------\n",
      "군집 2 :\n",
      "중심점 : [-8.8546122   7.54808242]\n",
      "데이터 개수: 25\n",
      "---------------\n",
      "군집 3 :\n",
      "중심점 : [-6.9749469  -6.76471966]\n",
      "데이터 개수: 25\n",
      "---------------\n",
      "군집 4 :\n",
      "중심점 : [-2.69827251  8.74341951]\n",
      "데이터 개수: 25\n",
      "---------------\n"
     ]
    }
   ],
   "source": [
    "# 군집 중심점 확인\n",
    "centroids = kmeans.cluster_centers_\n",
    "print(\"군집 중심점 : \")\n",
    "print(centroids)\n",
    "\n",
    "# 군집 예측 결과 확인\n",
    "labels = kmeans.labels_\n",
    "print(\"군집 예측 결과 : \")\n",
    "print(labels)\n",
    "\n",
    "# 결과 해석\n",
    "for i in range(len(centroids)) :\n",
    "    cluster_data = X[labels == i]    # 해당 군집에 속하는 데이터\n",
    "    cluster_center = centroids[i]    # 해당 군집의 중심점\n",
    "    \n",
    "    print(f\"군집 {i+1} :\")\n",
    "    print(f\"중심점 : {cluster_center}\")\n",
    "    print(f\"데이터 개수: {len(cluster_data)}\")\n",
    "    print(\"---------------\")"
   ]
  },
  {
   "cell_type": "code",
   "execution_count": null,
   "id": "2bad9276",
   "metadata": {},
   "outputs": [],
   "source": []
  }
 ],
 "metadata": {
  "kernelspec": {
   "display_name": "AI",
   "language": "python",
   "name": "ai"
  },
  "language_info": {
   "codemirror_mode": {
    "name": "ipython",
    "version": 3
   },
   "file_extension": ".py",
   "mimetype": "text/x-python",
   "name": "python",
   "nbconvert_exporter": "python",
   "pygments_lexer": "ipython3",
   "version": "3.10.9"
  }
 },
 "nbformat": 4,
 "nbformat_minor": 5
}
