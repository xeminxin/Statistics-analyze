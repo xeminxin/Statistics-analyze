{
 "cells": [
  {
   "cell_type": "markdown",
   "id": "0d23f693",
   "metadata": {},
   "source": [
    "# 다중 검정 실습\n",
    "* 1종 오류 타입\n",
    "귀무가설이 참이지만 대립가설이 참이라는 잘못된 결론을 내리는 것.<br>\n",
    "일반적으로 유의수준(alpha)을 0.05로 사용하는 경우, 100번 중 5번은 우연히 귀무가설을 기각하게 된다. 이 때 귀무가설이 참인데도 대립가설을 참으로 잘못 판단하는 것이 제 1종 오류이다.\n",
    "이러한 오류가 발생하면, 적절한 실험 계획 및 검정 방법 선택, 검정력 분석 등을 통해 최소화 할 수 있다.\n",
    "* 2종 오류 타입\n",
    "귀무가설을 기각할 근거가 충분하지 않아 귀무가설이 거짓임에도 불구하고 기각하지 못하는 오류. 우리가 찾고자 하는 차이나 관계가 존재하는데도 불구하고, 검정 결과로는 차이나 관계가 없는 것으로 나타나는 경우이다.<br>\n",
    "\n",
    "\n",
    "## 보정 방법\n",
    "다중 비교 문제는 유의수준을 조정해 주어야 한다. 이는 가설 검정에서 유의수준을 설정하면서 생기는 문제로, 가설 수가 증가할수록 제 1종 오류가 발생할 가능성이 높아지는 문제이다. 보정 방법은 유의수준을 보정해야 한다.\n",
    "대표적인 보정 방법은 Bonferroni 보정과 Benjamini-Hochberg(BH) 보정\n",
    "\n",
    "- Bonferroni 보정\n",
    "간단하면서 보수적인 방법으로, 각각의 가설 검정에서 유의수준을 1/m(m은 가설의 개수)로 나누어 준다. 이렇게 보정된 유의수준보다 작은 p-value를 가지는 가서를만을 유의미하다고 판단한다. 이 방법은 가설의 개수가 작을 때에는 유용하지만, 가설 수가 많아질수록 유의수준이 극도로 작아져, 결국 유의미한 가설을 찾는 것이 어려워진다.\n",
    "\n",
    "- Benjamini-Hochberg(BH) 보정\n",
    "위 보정의 단점을 보완한 방법. 각각의 가설 검정에서 p-value를 작은 것부터 큰 것 순서대로 정렬한다. 그리고 정렬된 p-value에 고유한 인덱스를 붙인다. 이 때, 인텍스 i에 해당하는 가설의 p-vlaue가 (i/m)*alpha(사용자가 지정한 유의수준) 보다 작을 때까지만 유의미하다고 판단."
   ]
  },
  {
   "cell_type": "markdown",
   "id": "059dfb1d",
   "metadata": {},
   "source": [
    "## 윌콕슨 부호 순위 다중 검정 실습\n",
    "### Bonferroni 보정\n",
    "검정을 여러번 수행하면서 다중 검정 오류가 발생하는 문제 보정 예시 실습"
   ]
  },
  {
   "cell_type": "code",
   "execution_count": 1,
   "id": "cfff5470",
   "metadata": {},
   "outputs": [
    {
     "name": "stdout",
     "output_type": "stream",
     "text": [
      "sample 1 :\n",
      "statis :  3.0\n",
      "p-values :  0.03546586462402558\n",
      "reject HO\n",
      "sample 2 :\n",
      "statis :  1.0\n",
      "p-values :  0.017153601700200603\n",
      "reject HO\n",
      "sample 3 :\n",
      "statis :  1.5\n",
      "p-values :  0.020706216472488822\n",
      "reject HO\n",
      "sample 4 :\n",
      "statis :  3.0\n",
      "p-values :  0.03546586462402558\n",
      "reject HO\n",
      "sample 5 :\n",
      "statis :  3.0\n",
      "p-values :  0.06203917662384968\n",
      "reject HO\n",
      "sample 6 :\n",
      "statis :  0.0\n",
      "p-values :  0.001953125\n",
      "reject HO\n",
      "sample 7 :\n",
      "statis :  3.0\n",
      "p-values :  0.03456570267773128\n",
      "reject HO\n",
      "sample 8 :\n",
      "statis :  3.0\n",
      "p-values :  0.009765625\n",
      "reject HO\n",
      "sample 9 :\n",
      "statis :  1.0\n",
      "p-values :  0.010723552816128436\n",
      "reject HO\n",
      "sample 10 :\n",
      "statis :  3.0\n",
      "p-values :  0.009765625\n",
      "reject HO\n",
      "Bonferroni\n",
      "sample : 1 : fail to reject HO\n",
      "sample : 2 : fail to reject HO\n",
      "sample : 3 : fail to reject HO\n",
      "sample : 4 : fail to reject HO\n",
      "sample : 5 : fail to reject HO\n",
      "sample : 6 : reject HO\n",
      "sample : 7 : fail to reject HO\n",
      "sample : 8 : fail to reject HO\n",
      "sample : 9 : fail to reject HO\n",
      "sample : 10 : fail to reject HO\n"
     ]
    },
    {
     "name": "stderr",
     "output_type": "stream",
     "text": [
      "C:\\Users\\smjin\\anaconda3\\lib\\site-packages\\scipy\\stats\\_morestats.py:3414: UserWarning: Exact p-value calculation does not work if there are zeros. Switching to normal approximation.\n",
      "  warnings.warn(\"Exact p-value calculation does not work if there are \"\n",
      "C:\\Users\\smjin\\anaconda3\\lib\\site-packages\\scipy\\stats\\_morestats.py:3428: UserWarning: Sample size too small for normal approximation.\n",
      "  warnings.warn(\"Sample size too small for normal approximation.\")\n"
     ]
    }
   ],
   "source": [
    "import pandas as pd\n",
    "from scipy.stats import wilcoxon\n",
    "from statsmodels.stats.multitest import multipletests\n",
    "\n",
    "data = pd.read_csv(\"./data/treatment_data.csv\")\n",
    "\n",
    "p_values = []\n",
    "\n",
    "# 여러 개의 가설 검정 수행\n",
    "for i in range(10):\n",
    "    # 랜덤으로 데이터를 선택해서 윌콕슨 부호 순위 검정 수행\n",
    "    sample = data.sample(frac=0.5)\n",
    "    st, p = wilcoxon(sample['pre_treatment'], sample['post_treatment'])\n",
    "    print(\"sample\", i+1, ':')\n",
    "    print('statis : ', st)\n",
    "    print('p-values : ', p)\n",
    "    p_values.append(p)\n",
    "    \n",
    "    if p > 0.5:\n",
    "        print('fail to reject HO')\n",
    "    else:\n",
    "        print(\"reject HO\")\n",
    "        \n",
    "        \n",
    "alpha = 0.05\n",
    "rejects_bonf, corrected_p_bonf, _, _ = multipletests(p_values, alpha=alpha, method='bonferroni')   # bonferroni이나 fdr-bh 둘 중 해당하는 알고리즘 사용\n",
    "print(\"Bonferroni\")\n",
    "for i in range(len(rejects_bonf)) :\n",
    "    if rejects_bonf[i] :\n",
    "        print(f\"sample : {i+1} : reject HO\" )\n",
    "    else :\n",
    "        print(f\"sample : {i+1} : fail to reject HO\")\n"
   ]
  },
  {
   "cell_type": "code",
   "execution_count": 5,
   "id": "67250762",
   "metadata": {},
   "outputs": [
    {
     "ename": "ZeroDivisionError",
     "evalue": "float division by zero",
     "output_type": "error",
     "traceback": [
      "\u001b[1;31m---------------------------------------------------------------------------\u001b[0m",
      "\u001b[1;31mZeroDivisionError\u001b[0m                         Traceback (most recent call last)",
      "Cell \u001b[1;32mIn[5], line 25\u001b[0m\n\u001b[0;32m     23\u001b[0m alpha \u001b[38;5;241m=\u001b[39m \u001b[38;5;241m0.05\u001b[39m\n\u001b[0;32m     24\u001b[0m p_values \u001b[38;5;241m=\u001b[39m []\n\u001b[1;32m---> 25\u001b[0m rejects_bh, corrected_p_bh, _, \u001b[38;5;241m=\u001b[39m \u001b[43mmultipletests\u001b[49m\u001b[43m(\u001b[49m\u001b[43mp_values\u001b[49m\u001b[43m,\u001b[49m\u001b[43m \u001b[49m\u001b[43malpha\u001b[49m\u001b[38;5;241;43m=\u001b[39;49m\u001b[43malpha\u001b[49m\u001b[43m,\u001b[49m\u001b[43m \u001b[49m\u001b[43mmethod\u001b[49m\u001b[43m \u001b[49m\u001b[38;5;241;43m=\u001b[39;49m\u001b[43m \u001b[49m\u001b[38;5;124;43m'\u001b[39;49m\u001b[38;5;124;43mfdr_bh\u001b[39;49m\u001b[38;5;124;43m'\u001b[39;49m\u001b[43m)\u001b[49m\n\u001b[0;32m     26\u001b[0m \u001b[38;5;28mprint\u001b[39m(\u001b[38;5;124m'\u001b[39m\u001b[38;5;124mBenjamini-Hochberg(BH) correction\u001b[39m\u001b[38;5;124m'\u001b[39m)\n\u001b[0;32m     27\u001b[0m \u001b[38;5;28;01mfor\u001b[39;00m i \u001b[38;5;129;01min\u001b[39;00m \u001b[38;5;28mrange\u001b[39m(\u001b[38;5;28mlen\u001b[39m(rejects_bh)):\n",
      "File \u001b[1;32m~\\anaconda3\\lib\\site-packages\\statsmodels\\stats\\multitest.py:147\u001b[0m, in \u001b[0;36mmultipletests\u001b[1;34m(pvals, alpha, method, is_sorted, returnsorted)\u001b[0m\n\u001b[0;32m    144\u001b[0m     pvals \u001b[38;5;241m=\u001b[39m np\u001b[38;5;241m.\u001b[39mtake(pvals, sortind)\n\u001b[0;32m    146\u001b[0m ntests \u001b[38;5;241m=\u001b[39m \u001b[38;5;28mlen\u001b[39m(pvals)\n\u001b[1;32m--> 147\u001b[0m alphacSidak \u001b[38;5;241m=\u001b[39m \u001b[38;5;241m1\u001b[39m \u001b[38;5;241m-\u001b[39m np\u001b[38;5;241m.\u001b[39mpower((\u001b[38;5;241m1.\u001b[39m \u001b[38;5;241m-\u001b[39m alphaf), \u001b[38;5;241;43m1.\u001b[39;49m\u001b[38;5;241;43m/\u001b[39;49m\u001b[43mntests\u001b[49m)\n\u001b[0;32m    148\u001b[0m alphacBonf \u001b[38;5;241m=\u001b[39m alphaf \u001b[38;5;241m/\u001b[39m \u001b[38;5;28mfloat\u001b[39m(ntests)\n\u001b[0;32m    149\u001b[0m \u001b[38;5;28;01mif\u001b[39;00m method\u001b[38;5;241m.\u001b[39mlower() \u001b[38;5;129;01min\u001b[39;00m [\u001b[38;5;124m'\u001b[39m\u001b[38;5;124mb\u001b[39m\u001b[38;5;124m'\u001b[39m, \u001b[38;5;124m'\u001b[39m\u001b[38;5;124mbonf\u001b[39m\u001b[38;5;124m'\u001b[39m, \u001b[38;5;124m'\u001b[39m\u001b[38;5;124mbonferroni\u001b[39m\u001b[38;5;124m'\u001b[39m]:\n",
      "\u001b[1;31mZeroDivisionError\u001b[0m: float division by zero"
     ]
    }
   ],
   "source": [
    "import pandas as pd\n",
    "from scipy.stats import wilcoxon\n",
    "from statsmodels.stats.multitest import multipletests\n",
    "\n",
    "data = pd.read_csv(\"./data/treatment_data.csv\")\n",
    "\n",
    "# 여러 개의 가설 검정 수행\n",
    "for i in range(10):\n",
    "    # 랜덤으로 데이터를 선택해서 윌콕슨 부호 순위 검정 수행\n",
    "    sample = data.sample(frac=0.5)\n",
    "    st, p = wilcoxon(sample['pre_treatment'], sample['post_treatment'])\n",
    "    print(\"sample\", i+1, ':')\n",
    "    print('statis : ', st)\n",
    "    print('p-values : ', p)\n",
    "    p_values.append(p)\n",
    "    \n",
    "    if p > 0.5:\n",
    "        print('fail to reject HO')\n",
    "    else:\n",
    "        print(\"reject HO\")\n",
    "        \n",
    "        \n",
    "alpha = 0.05\n",
    "p_values = []\n",
    "rejects_bh, corrected_p_bh, _, = multipletests(p_values, alpha=alpha, method = 'fdr_bh')\n",
    "print('Benjamini-Hochberg(BH) correction')\n",
    "for i in range(len(rejects_bh)):\n",
    "    if rejects_bh[i]:\n",
    "        print(f'Sample {i+1}: Different distribution (reject H0)')\n",
    "    else:\n",
    "        print(f'Sample {i+1}: Same distribution (fail to reject H0)')\n"
   ]
  },
  {
   "cell_type": "code",
   "execution_count": null,
   "id": "1831496c",
   "metadata": {},
   "outputs": [],
   "source": []
  },
  {
   "cell_type": "code",
   "execution_count": null,
   "id": "dc22b4a0",
   "metadata": {},
   "outputs": [],
   "source": []
  }
 ],
 "metadata": {
  "kernelspec": {
   "display_name": "AI",
   "language": "python",
   "name": "ai"
  },
  "language_info": {
   "codemirror_mode": {
    "name": "ipython",
    "version": 3
   },
   "file_extension": ".py",
   "mimetype": "text/x-python",
   "name": "python",
   "nbconvert_exporter": "python",
   "pygments_lexer": "ipython3",
   "version": "3.10.9"
  }
 },
 "nbformat": 4,
 "nbformat_minor": 5
}
