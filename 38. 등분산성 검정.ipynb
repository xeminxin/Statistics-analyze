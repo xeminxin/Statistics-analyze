{
 "cells": [
  {
   "cell_type": "markdown",
   "id": "421745fe",
   "metadata": {},
   "source": [
    "## 등분선상 가정\n",
    "맨 휘트니 검정에서의 등분산성 가정은 두 집단의 분산이 같다는 것을 가정하는 것이다. 이 가정이 만족되지 않으면 검정 결과가 부정확하거나 왜곡될 수 있다."
   ]
  },
  {
   "cell_type": "code",
   "execution_count": 1,
   "id": "7d2fca37",
   "metadata": {},
   "outputs": [
    {
     "name": "stdout",
     "output_type": "stream",
     "text": [
      "   group1  group2\n",
      "0       3       6\n",
      "1       2       4\n",
      "2       5       7\n",
      "3       1       2\n",
      "4       4       6\n",
      "5       2       3\n",
      "6       6       7\n",
      "7       7       9\n",
      "8       9      10\n",
      "9       8      11\n"
     ]
    }
   ],
   "source": [
    "import pandas as pd \n",
    "from scipy.stats import levene\n",
    "# levene : 레빈 검정 수행, 검정 결과로 검정 통계량과 p값 반환\n",
    "\n",
    "# 데이터 불러오기 \n",
    "data = pd.read_csv(\"./data/mannwhitneyu_sample_data.csv\")\n",
    "print(data)"
   ]
  },
  {
   "cell_type": "code",
   "execution_count": 2,
   "id": "054af21c",
   "metadata": {},
   "outputs": [
    {
     "name": "stdout",
     "output_type": "stream",
     "text": [
      "0.0 1.0\n",
      "fail to reject H0\n"
     ]
    }
   ],
   "source": [
    "# 등분산성 검정 \n",
    "stat, p = levene(data['group1'], data['group2'])\n",
    "\n",
    "print(stat, p)\n",
    "\n",
    "if p > 0.05 : \n",
    "    print(\"fail to reject H0\")\n",
    "else : \n",
    "    print(\"reject H0\")"
   ]
  },
  {
   "cell_type": "markdown",
   "id": "7794f39e",
   "metadata": {},
   "source": [
    "p값이 0.05보다 크면 등분산성 가정을 만족한다는 것을 의미. 그렇지 않으면 등분산성 가정을 만족하지 않는다는 것을 의미"
   ]
  },
  {
   "cell_type": "markdown",
   "id": "794a90b8",
   "metadata": {},
   "source": [
    "#### 용어 정리\n",
    "레빈 검정\n",
    "두 개 이상의 그룹 간 분산이 동일한지를 검정하는 검정 방법 중 하나. 두 개 이상의 그룹 간의 분산이 동일하지 않은 경우 사용되며, 이 경우 등분산성 가정을 위반하므로 t검정 및 ANOVA분석을 수행 할 수 없다. 대신, 등분산성이 없는 경우, Kruskal-Wallis 검정 및 Welch의 t검정과 같은 비모수적인 통계적 절차를 사용하여 그룹 간 차이를 분석할 수 있다."
   ]
  },
  {
   "cell_type": "code",
   "execution_count": null,
   "id": "06965582",
   "metadata": {},
   "outputs": [],
   "source": []
  }
 ],
 "metadata": {
  "kernelspec": {
   "display_name": "AI",
   "language": "python",
   "name": "ai"
  },
  "language_info": {
   "codemirror_mode": {
    "name": "ipython",
    "version": 3
   },
   "file_extension": ".py",
   "mimetype": "text/x-python",
   "name": "python",
   "nbconvert_exporter": "python",
   "pygments_lexer": "ipython3",
   "version": "3.10.9"
  }
 },
 "nbformat": 4,
 "nbformat_minor": 5
}
