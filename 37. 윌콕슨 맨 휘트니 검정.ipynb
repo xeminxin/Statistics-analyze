{
 "cells": [
  {
   "cell_type": "markdown",
   "id": "5eeed1d2",
   "metadata": {},
   "source": [
    "## 윌콕슨 맨 휘트니 검정\n",
    "비모수적인 방법으로, 두 개의 관련 표본을 비교하는 검정 방법\n",
    "짝을 이룬 표본을 비교할 때 사용한다. (동일한 대상의 전후 관찰 등)\n",
    "이 때, 두 표본이 서로 대응되는 데이터라는 것이 중요하다. 예를 들어, 같은 사람들이 전후 각각 다른 약을 복용하여 그 차이를 비교하는 경우 등이 있다.\n",
    "이 검정은 먼저 각 대응 쌍에 대해 차이를 계산하고, 이 차이들의 순위를 매긴다. 이후, 순위 합계를 이용하여 검정 통계량을 계산한다. 검정 통계량의 분포는 자유도가 n-1인 표준 정규분포와 유사하다.\n",
    "결과적으로, 검정 통계량과 p-value를 계산하여, 통계적으로 유의한 차이가 있는지를 검정한다. p-value가 일정 기준값보다 작으면, 두 표본 간의 차이가 통계적으로 유의하다고 판단할 수 있다. 그렇지 않으면, 두 표본 간의 차이는 통계적으로 유의하지 않다고 판단한다.\n",
    "\n",
    "<br>\n",
    "윌콕슨 부호 순위 검정에서 자유도는 샘플의 크기에서 각 쌍의 순위 차이가 모두 다른 경우, 즉 tied된 경우에만 계산된다. 이 때는 각 tied된 값들의 순위 중간값을 사용하여 순위를 매긴 후에, 공식에 따라 자유도를 계산한다.\n",
    "(윌콕슨 맨 휘트니 검정에서 tied란 같은 값을 가진 데이터가 여러 개 있는 경우를 의미)<br>\n",
    "자유도는 검정 통계량에서 제한된 정보의 양으로, 검정통계량이 자유도보다 크면 p-value가 작아지므로 귀무가설을 기각할 가능성이 높아진다. 따라서 자유도가 높을수록 검정의 민감도가 높아진다.\n",
    "\n",
    "### 윌콕슨 맨 휘트니 검정\n",
    "주어진 데이터를 하나의 순위화된 데이터로 변환하여, 각각의 데이터가 두 집단 중 어느 쪽에 속하는지 판단하고 이를 기반으로 검정을 수행한다. 이 때 순위화 과정에서 동점이 발생할 수 있는데, 이 경우 랜덤으로 순위를 부여한다. 따라서, 이 검정 방법은 중앙값을 중심으로 두 집단의 차이를 비교한다."
   ]
  },
  {
   "cell_type": "code",
   "execution_count": 3,
   "id": "ba0a11c0",
   "metadata": {},
   "outputs": [],
   "source": [
    "import pandas as pd\n",
    "import seaborn as sns\n",
    "import matplotlib.pyplot as plt\n",
    "from scipy.stats import mannwhitneyu\n",
    "\n",
    "data = {'group1' : [3, 2, 5, 1, 4, 2, 6, 7, 9, 8],\n",
    "       'group2' : [6, 4, 7, 2, 6, 3, 7, 9, 10, 11]}\n",
    "\n",
    "df = pd.DataFrame(data)\n",
    "df.to_csv('./data/mannwhitneyu_sample_data.csv', index = False)"
   ]
  },
  {
   "cell_type": "code",
   "execution_count": 5,
   "id": "9e5f50e9",
   "metadata": {},
   "outputs": [
    {
     "name": "stdout",
     "output_type": "stream",
     "text": [
      "32.5 0.19622288836173518\n",
      "fail to reject H0\n"
     ]
    }
   ],
   "source": [
    "data = pd.read_csv('./data/mannwhitneyu_sample_data.csv')\n",
    "\n",
    "# 두 집단 간의 차이\n",
    "st, p = mannwhitneyu(data['group1'], data['group2'])\n",
    "print(st, p)\n",
    "\n",
    "if p > 0.05:\n",
    "    print(\"fail to reject H0\")\n",
    "else:\n",
    "    print(\"reject H0\")"
   ]
  },
  {
   "cell_type": "markdown",
   "id": "11e78c2a",
   "metadata": {},
   "source": [
    "## 시각화"
   ]
  },
  {
   "cell_type": "code",
   "execution_count": 6,
   "id": "bcd96379",
   "metadata": {},
   "outputs": [
    {
     "name": "stderr",
     "output_type": "stream",
     "text": [
      "C:\\Users\\smjin\\anaconda3\\lib\\site-packages\\seaborn\\categorical.py:166: FutureWarning: Setting a gradient palette using color= is deprecated and will be removed in version 0.13. Set `palette='dark:.3'` for same effect.\n",
      "  warnings.warn(msg, FutureWarning)\n"
     ]
    },
    {
     "data": {
      "image/png": "[encoded data removed]",
      "text/plain": [
       "<Figure size 640x480 with 1 Axes>"
      ]
     },
     "metadata": {},
     "output_type": "display_data"
    }
   ],
   "source": [
    "sns.boxplot(data = data[['group1', 'group2']], palette='Set3')\n",
    "sns.stripplot(data = data[['group1', 'group2']], color='.3', size=4)\n",
    "sns.despine(trim = True)\n",
    "plt.show()"
   ]
  },
  {
   "cell_type": "markdown",
   "id": "5b298943",
   "metadata": {},
   "source": [
    "윌콕슨 부호 순위 검정과 윌콕슨 맨 휘트니 검정의 차이\n",
    "\n",
    "<윌콕슨 부호 순위 검정>\n",
    "- 단일 집단에서 중앙값을 기준으로 하여 두 개의 표본 비교\n",
    "- 두 개의 표본이 서로 독립적이지 않으며, 각 쌍의 관측치 사이의 차이가 0인지 아닌지를 검정하는 방법\n",
    "- 정규분포를 따르지 않는 경우에도 사용 가능\n",
    "\n",
    "<윌콕슨 맨 휘트니 검정>\n",
    "- 두 개의 집단에서 랜덤 샘플을 추출하여 순위를 매긴 후, 각 집단의 순위 합을 비교하는 검정 방법\n",
    "- 두 개의 표본이 서로 독립적이며, 각 집단의 분포가 동일한 경우에 사용 가능\n",
    "- 또한, 정규분포를 따르지 않는 경우에도 사용 가능\n",
    "\n",
    "따라서, 윌콕슨 부호 순위 검정은 단일 집단에서 중앙값을 비교하는 검정, 윌콕슨 맨 휘트니 검정은 두 개의 독립적인 집단에서 평균이 아닌 순위 합을 비교하는 검정"
   ]
  },
  {
   "cell_type": "code",
   "execution_count": null,
   "id": "24db8629",
   "metadata": {},
   "outputs": [],
   "source": []
  }
 ],
 "metadata": {
  "kernelspec": {
   "display_name": "AI",
   "language": "python",
   "name": "ai"
  },
  "language_info": {
   "codemirror_mode": {
    "name": "ipython",
    "version": 3
   },
   "file_extension": ".py",
   "mimetype": "text/x-python",
   "name": "python",
   "nbconvert_exporter": "python",
   "pygments_lexer": "ipython3",
   "version": "3.10.9"
  }
 },
 "nbformat": 4,
 "nbformat_minor": 5
}
