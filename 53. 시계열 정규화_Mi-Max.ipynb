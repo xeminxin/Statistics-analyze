{
 "cells": [
  {
   "cell_type": "markdown",
   "id": "da2672ee",
   "metadata": {},
   "source": [
    "## 시계열 데이터를 활용하여 Min-Max 정규화 적용하는 실습\n",
    "\n",
    "#### Min-Max Normalization\n",
    "데이터값을 최소값과 최대값 사이의 범위로 변환\n",
    "- X_new = (X - X_min)/(X_max - X_min)"
   ]
  },
  {
   "cell_type": "code",
   "execution_count": 1,
   "id": "c6487430",
   "metadata": {},
   "outputs": [],
   "source": [
    "import pandas as pd\n",
    "import numpy as np"
   ]
  },
  {
   "cell_type": "code",
   "execution_count": 8,
   "id": "bb0bb124",
   "metadata": {},
   "outputs": [
    {
     "name": "stdout",
     "output_type": "stream",
     "text": [
      "         Date  Value\n",
      "0  2023-01-01     55\n",
      "1  2023-01-02     70\n",
      "2  2023-01-03     73\n",
      "3  2023-01-04     27\n",
      "4  2023-01-05     56\n",
      "..        ...    ...\n",
      "95 2023-04-06     84\n",
      "96 2023-04-07     64\n",
      "97 2023-04-08     54\n",
      "98 2023-04-09     68\n",
      "99 2023-04-10     92\n",
      "\n",
      "[100 rows x 2 columns]\n",
      "0 99\n",
      "         Date  Value_Normalized\n",
      "0  2023-01-01          0.555556\n",
      "1  2023-01-02          0.707071\n",
      "2  2023-01-03          0.737374\n",
      "3  2023-01-04          0.272727\n",
      "4  2023-01-05          0.565657\n",
      "..        ...               ...\n",
      "95 2023-04-06          0.848485\n",
      "96 2023-04-07          0.646465\n",
      "97 2023-04-08          0.545455\n",
      "98 2023-04-09          0.686869\n",
      "99 2023-04-10          0.929293\n",
      "\n",
      "[100 rows x 2 columns]\n"
     ]
    }
   ],
   "source": [
    "# 시계열 데이터\n",
    "dates = pd.date_range(start='2023-01-01', periods = 100, freq='D')\n",
    "values = np.random.randint(0, 100, size = 100)\n",
    "\n",
    "# 데이터 프레임\n",
    "data = pd.DataFrame({'Date' : dates, 'Value' : values})\n",
    "print(data)\n",
    "\n",
    "# Min-Max 정규화 수행\n",
    "min_val = data['Value'].min()\n",
    "max_val = data['Value'].max()\n",
    "print(min_val,max_val)\n",
    "data['Value_Normalized'] = (data['Value'] - min_val) / (max_val - min_val)\n",
    "# 공식 -> x_new = (x - min) / (max - min)\n",
    "\n",
    "# 정규화 완료된 데이터 확인\n",
    "print(data[['Date', 'Value_Normalized']])"
   ]
  },
  {
   "cell_type": "code",
   "execution_count": null,
   "id": "b3eddcf9",
   "metadata": {},
   "outputs": [],
   "source": []
  }
 ],
 "metadata": {
  "kernelspec": {
   "display_name": "AI",
   "language": "python",
   "name": "ai"
  },
  "language_info": {
   "codemirror_mode": {
    "name": "ipython",
    "version": 3
   },
   "file_extension": ".py",
   "mimetype": "text/x-python",
   "name": "python",
   "nbconvert_exporter": "python",
   "pygments_lexer": "ipython3",
   "version": "3.10.9"
  }
 },
 "nbformat": 4,
 "nbformat_minor": 5
}
