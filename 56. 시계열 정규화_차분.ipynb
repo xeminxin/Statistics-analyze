{
 "cells": [
  {
   "cell_type": "markdown",
   "id": "068271e2",
   "metadata": {},
   "source": [
    "##  차분(Difference)\n",
    "시계열 데이터에서 혀내 값과 이전 값 간의 차이를 계산하는 것<br>\n",
    "차분(시점 t) = 데이터(시점 t) - 데이터(시점 t-1)<br>\n",
    "시계열 데이터의 불규칙성을 제거하고, 정상성(stationarity)을 가지는 시계열 데이터로 변환할 수 있다."
   ]
  },
  {
   "cell_type": "code",
   "execution_count": 1,
   "id": "1747ca82",
   "metadata": {},
   "outputs": [
    {
     "name": "stdout",
     "output_type": "stream",
     "text": [
      "   Value  DiffValue\n",
      "0     10        NaN\n",
      "1     20       10.0\n",
      "2     30       10.0\n",
      "3     40       10.0\n",
      "4     50       10.0\n"
     ]
    }
   ],
   "source": [
    "import pandas as pd\n",
    "\n",
    "# 예시 데이터 생성\n",
    "data = pd.DataFrame({'Value' : [10, 20, 30, 40, 50]})\n",
    "\n",
    "# 차분 적용\n",
    "data['DiffValue'] = data['Value'].diff()\n",
    "\n",
    "# 결과 출력\n",
    "print(data)"
   ]
  },
  {
   "cell_type": "code",
   "execution_count": null,
   "id": "92c889c2",
   "metadata": {},
   "outputs": [],
   "source": []
  }
 ],
 "metadata": {
  "kernelspec": {
   "display_name": "AI",
   "language": "python",
   "name": "ai"
  },
  "language_info": {
   "codemirror_mode": {
    "name": "ipython",
    "version": 3
   },
   "file_extension": ".py",
   "mimetype": "text/x-python",
   "name": "python",
   "nbconvert_exporter": "python",
   "pygments_lexer": "ipython3",
   "version": "3.10.9"
  }
 },
 "nbformat": 4,
 "nbformat_minor": 5
}
