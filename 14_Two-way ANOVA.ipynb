{
 "cells": [
  {
   "cell_type": "markdown",
   "id": "169e1914",
   "metadata": {},
   "source": [
    "## 이원 분산 분석\n",
    "두 가지 요인(factor)에 따른 평균값의 차이를 비교하는 방법<br>\n",
    "각 요인은 두 개 이상의 수준(level)을 가질 수 있으며, 요인 간 상호작용 여부도 검정할 수 있다.\n",
    "<br><br>\n",
    "이원 분산 분석에서는 각각의 요인과 상호작용의 효과를 검정하기 위해 F-검정을 사용한다. F-검정은 분산 분석을 실시한 후, 각 집단 간 평균 차이가 크게 나타났는지 여부를 검정한다.\n",
    "<br>\n",
    "또한, 일반적으로 복수 요인에 대한 평균값 비교를 위해 사용되며, 복수 요인이 있을 경우 요인들 간에 상호작용이 있는지 여부도 함께 고려하여 검정할 수 있다."
   ]
  },
  {
   "cell_type": "code",
   "execution_count": 6,
   "id": "ecdd2af0",
   "metadata": {},
   "outputs": [
    {
     "data": {
      "text/plain": [
       "<seaborn.axisgrid.FacetGrid at 0x298210d1e80>"
      ]
     },
     "execution_count": 6,
     "metadata": {},
     "output_type": "execute_result"
    },
    {
     "data": {
      "image/png": "[encoded data removed]",
      "text/plain": [
       "<Figure size 558.875x500 with 1 Axes>"
      ]
     },
     "metadata": {},
     "output_type": "display_data"
    }
   ],
   "source": [
    "import pandas as pd\n",
    "import seaborn as sns\n",
    "from statsmodels.formula.api import ols\n",
    "from statsmodels.stats.anova import anova_lm\n",
    "\n",
    "# 데이터 불러오기\n",
    "titanic_df = pd.read_csv('./data/Titanic_data.csv')\n",
    "\n",
    "# 이원 분산 분석 모델 생성\n",
    "model = ols('Survived ~ C(Sex) + C(Pclass) + C(Sex):C(Pclass)', titanic_df).fit()\n",
    "\n",
    "# 분산 분석 실행\n",
    "anova_results = anova_lm(model, typ=2)\n",
    "\n",
    "# 시각화\n",
    "sns.catplot(x='Sex', y='Survived', hue='Pclass', data=titanic_df, kind='bar')"
   ]
  },
  {
   "cell_type": "code",
   "execution_count": 2,
   "id": "c9282e3c",
   "metadata": {},
   "outputs": [
    {
     "name": "stdout",
     "output_type": "stream",
     "text": [
      "Collecting statsmodels\n",
      "  Downloading statsmodels-0.14.0-cp38-cp38-win_amd64.whl (9.4 MB)\n",
      "     ---------------------------------------- 0.0/9.4 MB ? eta -:--:--\n",
      "     - -------------------------------------- 0.3/9.4 MB 6.7 MB/s eta 0:00:02\n",
      "     -- ------------------------------------- 0.7/9.4 MB 7.4 MB/s eta 0:00:02\n",
      "     ----- ---------------------------------- 1.2/9.4 MB 8.8 MB/s eta 0:00:01\n",
      "     ------ --------------------------------- 1.6/9.4 MB 8.4 MB/s eta 0:00:01\n",
      "     -------- ------------------------------- 2.0/9.4 MB 8.7 MB/s eta 0:00:01\n",
      "     ---------- ----------------------------- 2.5/9.4 MB 8.8 MB/s eta 0:00:01\n",
      "     ------------ --------------------------- 3.0/9.4 MB 9.0 MB/s eta 0:00:01\n",
      "     -------------- ------------------------- 3.3/9.4 MB 8.8 MB/s eta 0:00:01\n",
      "     ---------------- ----------------------- 3.8/9.4 MB 8.9 MB/s eta 0:00:01\n",
      "     ------------------ --------------------- 4.2/9.4 MB 9.0 MB/s eta 0:00:01\n",
      "     ------------------- -------------------- 4.7/9.4 MB 9.0 MB/s eta 0:00:01\n",
      "     --------------------- ------------------ 5.0/9.4 MB 9.0 MB/s eta 0:00:01\n",
      "     ----------------------- ---------------- 5.5/9.4 MB 9.0 MB/s eta 0:00:01\n",
      "     ------------------------- -------------- 5.9/9.4 MB 8.9 MB/s eta 0:00:01\n",
      "     -------------------------- ------------- 6.2/9.4 MB 8.9 MB/s eta 0:00:01\n",
      "     ---------------------------- ----------- 6.6/9.4 MB 8.8 MB/s eta 0:00:01\n",
      "     ----------------------------- ---------- 7.0/9.4 MB 8.8 MB/s eta 0:00:01\n",
      "     ------------------------------- -------- 7.4/9.4 MB 8.8 MB/s eta 0:00:01\n",
      "     --------------------------------- ------ 7.9/9.4 MB 8.8 MB/s eta 0:00:01\n",
      "     ----------------------------------- ---- 8.3/9.4 MB 9.0 MB/s eta 0:00:01\n",
      "     -------------------------------------- - 8.9/9.4 MB 9.0 MB/s eta 0:00:01\n",
      "     ---------------------------------------  9.4/9.4 MB 8.9 MB/s eta 0:00:01\n",
      "     ---------------------------------------- 9.4/9.4 MB 8.7 MB/s eta 0:00:00\n",
      "Requirement already satisfied: pandas>=1.0 in c:\\users\\smjin\\anaconda3\\envs\\ai\\lib\\site-packages (from statsmodels) (2.0.1)\n",
      "Requirement already satisfied: packaging>=21.3 in c:\\users\\smjin\\anaconda3\\envs\\ai\\lib\\site-packages (from statsmodels) (23.1)\n",
      "Collecting patsy>=0.5.2\n",
      "  Downloading patsy-0.5.3-py2.py3-none-any.whl (233 kB)\n",
      "     ---------------------------------------- 0.0/233.8 kB ? eta -:--:--\n",
      "     -------------------------------------- 233.8/233.8 kB 7.2 MB/s eta 0:00:00\n",
      "Requirement already satisfied: scipy!=1.9.2,>=1.4 in c:\\users\\smjin\\anaconda3\\envs\\ai\\lib\\site-packages (from statsmodels) (1.10.1)\n",
      "Requirement already satisfied: numpy>=1.18 in c:\\users\\smjin\\anaconda3\\envs\\ai\\lib\\site-packages (from statsmodels) (1.24.3)\n",
      "Requirement already satisfied: python-dateutil>=2.8.2 in c:\\users\\smjin\\anaconda3\\envs\\ai\\lib\\site-packages (from pandas>=1.0->statsmodels) (2.8.2)\n",
      "Requirement already satisfied: pytz>=2020.1 in c:\\users\\smjin\\anaconda3\\envs\\ai\\lib\\site-packages (from pandas>=1.0->statsmodels) (2023.3)\n",
      "Requirement already satisfied: tzdata>=2022.1 in c:\\users\\smjin\\anaconda3\\envs\\ai\\lib\\site-packages (from pandas>=1.0->statsmodels) (2023.3)\n",
      "Requirement already satisfied: six in c:\\users\\smjin\\anaconda3\\envs\\ai\\lib\\site-packages (from patsy>=0.5.2->statsmodels) (1.16.0)\n",
      "Installing collected packages: patsy, statsmodels\n",
      "Successfully installed patsy-0.5.3 statsmodels-0.14.0\n"
     ]
    }
   ],
   "source": [
    "!pip install statsmodels"
   ]
  },
  {
   "cell_type": "markdown",
   "id": "6b2723c9",
   "metadata": {},
   "source": [
    "성별(Sex)을 x축으로, 생존 여부(Survived)를 y축으로, 객실 클래스(Pclass)를 색상(hue)으로 구분하여 각 그룹의 평균값을 막대 그래프로 시각화한다. 이렇게 시각화된 그래프를 통해, 성별과 객실 클래스가 모두 생존 여부에 영향을 미치는 것으로 나타나며, 특히 여성의 생존율이 높은 것으로 나타난다. 또한, 객실 클래스가 높을수록 생존율이 높아지는 것으로 나타난다. 이러한 결과를 토대로, 성별과 객실 클래스가 생존 여부에 유의미한 영향을 미치는 것으로 결론을 내릴 수 있다."
   ]
  },
  {
   "cell_type": "code",
   "execution_count": null,
   "id": "2759383f",
   "metadata": {},
   "outputs": [],
   "source": []
  }
 ],
 "metadata": {
  "kernelspec": {
   "display_name": "AI",
   "language": "python",
   "name": "ai"
  },
  "language_info": {
   "codemirror_mode": {
    "name": "ipython",
    "version": 3
   },
   "file_extension": ".py",
   "mimetype": "text/x-python",
   "name": "python",
   "nbconvert_exporter": "python",
   "pygments_lexer": "ipython3",
   "version": "3.8.16"
  }
 },
 "nbformat": 4,
 "nbformat_minor": 5
}
