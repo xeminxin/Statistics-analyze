{
 "cells": [
  {
   "cell_type": "markdown",
   "id": "71376aaa",
   "metadata": {},
   "source": [
    "## chi-square 검정\n",
    "\n",
    "관측값과 기대값 간의 차이가 우연에 의한 것인지 아니면 유의미한 것인지를 검정하는 방법 중 하나"
   ]
  },
  {
   "cell_type": "code",
   "execution_count": 2,
   "id": "85cbe337",
   "metadata": {},
   "outputs": [
    {
     "name": "stdout",
     "output_type": "stream",
     "text": [
      "  Gender Smoker  Count\n",
      "0      M    Yes     20\n",
      "1      M     No     80\n",
      "2      M     No     40\n",
      "3      M    Yes     60\n",
      "4      F    Yes     40\n",
      "5      F     No    160\n",
      "6      F     No     80\n",
      "7      F    Yes    120\n",
      "Smoker   No  Yes\n",
      "Gender          \n",
      "F       120   80\n",
      "M        60   40\n",
      "1.0\n",
      "귀무 가설 채택\n"
     ]
    }
   ],
   "source": [
    "# Gender와 Smker의 조합에 따라 Count의 값이 어떻게 분포하는지를 나타내는 데이터를 가지고 chi-square 검정 수행\n",
    "\n",
    "import pandas as pd\n",
    "import numpy as np\n",
    "from scipy.stats import chi2_contingency\n",
    "\n",
    "# 가상 데이터 생성\n",
    "data = {\n",
    "    'Gender' : [\"M\", \"M\", \"M\", \"M\", \"F\", \"F\", \"F\", \"F\"],\n",
    "    'Smoker' : ['Yes', \"No\", \"No\", \"Yes\", \"Yes\", \"No\", \"No\", \"Yes\"],\n",
    "    'Count' : [20, 80, 40, 60, 40, 160, 80, 120]\n",
    "}\n",
    "\n",
    "df = pd.DataFrame(data)\n",
    "\n",
    "print(df)\n",
    "\n",
    "# 데이터  프레임을 이용한 분할표 생성\n",
    "table = pd.pivot_table(df, values = 'Count', index = 'Gender', columns='Smoker')\n",
    "print(table)\n",
    "\n",
    "# chi2_contigency\n",
    "stat, p, dof, expected = chi2_contingency(table)\n",
    "alpha = 0.05\n",
    "\n",
    "print(p)\n",
    "if p < alpha:\n",
    "    print('귀무 가설 기각')\n",
    "else:\n",
    "    print('귀무 가설 채택')"
   ]
  },
  {
   "cell_type": "markdown",
   "id": "991076f0",
   "metadata": {},
   "source": [
    "결과 : p-value는 1.0으로 나타난다. 이는 귀무 가설이 맞다는 것을 의미.\n",
    "<br>\n",
    "즉, 성별과 흡연 여부 간에는 유의한 차이가 없다는 것을 의미한다. 따라서, 이 경우에는 성별과 흡연 여부 간에는 상관 관계가 없다는 것을 의미"
   ]
  }
 ],
 "metadata": {
  "kernelspec": {
   "display_name": "AI",
   "language": "python",
   "name": "ai"
  },
  "language_info": {
   "codemirror_mode": {
    "name": "ipython",
    "version": 3
   },
   "file_extension": ".py",
   "mimetype": "text/x-python",
   "name": "python",
   "nbconvert_exporter": "python",
   "pygments_lexer": "ipython3",
   "version": "3.8.16"
  }
 },
 "nbformat": 4,
 "nbformat_minor": 5
}
